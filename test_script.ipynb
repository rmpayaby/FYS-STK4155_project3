{
 "cells": [
  {
   "cell_type": "markdown",
   "metadata": {},
   "source": [
    "# Scripts for MCDA"
   ]
  },
  {
   "cell_type": "markdown",
   "metadata": {},
   "source": [
    "This is the entire script for the ordinary MCDA-analysis. Some preprocessing of the criteria are not included due to it being a pre-planning stage that is independent from MCDA. The work environment contains two geodatabases so far, one containing original data for the criteria \"Intercity.gdb\" and one specifically tailored for the study area \"HaugSeut.gdb\". "
   ]
  },
  {
   "cell_type": "code",
   "execution_count": 1,
   "metadata": {},
   "outputs": [],
   "source": [
    "import matplotlib.pyplot as plt\n",
    "import numpy as np\n",
    "import pandas as pd\n",
    "\n",
    "import arcpy\n",
    "from arcpy import env\n",
    "from arcpy.sa import *"
   ]
  },
  {
   "cell_type": "markdown",
   "metadata": {},
   "source": [
    "#### Set-up environment"
   ]
  },
  {
   "cell_type": "code",
   "execution_count": 2,
   "metadata": {},
   "outputs": [],
   "source": [
    "arcpy.env.workspace = 'C:/Users/rmbp/GIS-project/Intercity_data.gdb/'\n",
    "mydir = arcpy.env.workspace \n",
    "arcpy.env.overwriteOutput = True "
   ]
  },
  {
   "cell_type": "markdown",
   "metadata": {},
   "source": [
    "#### Euclidean Distance for pumping wells and rivers"
   ]
  },
  {
   "cell_type": "code",
   "execution_count": 3,
   "metadata": {},
   "outputs": [],
   "source": [
    "# Assign local variables\n",
    "insource_data = 'main_river.shp'\n",
    "maxDistance = 6000\n",
    "cellSize = 50\n",
    "outdir = 'C:/Users/rmbp/GIS-project/Analysis/eucdirect'\n",
    "\n",
    "# Checking ArcGIS Spatial Analyst\n",
    "arcpy.CheckOutExtension('Spatial')\n",
    "\n",
    "# Execute operation\n",
    "out_Euclid = EucDistance(insource_data,maxDistance,cellSize,outdir)\n",
    "\n",
    "# Save output\n",
    "out_Euclid.save('C:/Users/rmbp/GIS-project/Analysis/euc_river.tif')\n",
    "\n",
    "#Euclidean distance for pumping wells\n",
    "new_insource = 'pumping_wells.shp'\n",
    "\n",
    "outdir_pumps = 'C:/Users/rmbp/GIS-project/Analysis/eucdirect'\n",
    "out_pumpdist = EucDistance(new_insource,maxDistance,cellSize,outdir_pumps)\n",
    "\n",
    "# Save the output from the pumping wells \n",
    "out_pumpdist.save('C:/Users/rmbp/GIS-project/Analysis/euc_wells')\n"
   ]
  },
  {
   "cell_type": "markdown",
   "metadata": {},
   "source": [
    "#### Clipping of study area"
   ]
  },
  {
   "cell_type": "code",
   "execution_count": 4,
   "metadata": {},
   "outputs": [
    {
     "data": {
      "text/plain": [
       "<Result 'C:\\\\Users\\\\rmbp\\\\GIS-project\\\\HaugSeut.gdb\\\\pumps_haugseut'>"
      ]
     },
     "execution_count": 4,
     "metadata": {},
     "output_type": "execute_result"
    }
   ],
   "source": [
    "# Setting in raster data for extraction\n",
    "\n",
    "#Polygon-mask \n",
    "inMask = 'HaugSeut'\n",
    "\n",
    "# Raster-files for clipping the area \n",
    "inClass = 'classified_land'\n",
    "inTWI = 'TWI_for_Intercity'\n",
    "inSlope = 'Slope3'\n",
    "\n",
    "outClass = ExtractByMask(inClass, inMask)\n",
    "outTWI = ExtractByMask(inTWI, inMask)\n",
    "outSlope = ExtractByMask(inSlope, inMask)\n",
    "\n",
    "outClass.save('C:/Users/rmbp/GIS-project/HaugSeut.gdb/landcovers')\n",
    "outTWI.save('C:/Users/rmbp/GIS-project/HaugSeut.gdb/TWI')\n",
    "outSlope.save('C:/Users/rmbp/GIS-project/HaugSeut.gdb/Slope')\n",
    "\n",
    "#Clipping of vector data\n",
    "xy_tolerance = ''\n",
    "in_soil = 'soil_type'\n",
    "in_pump = 'GW_stablewater'\n",
    "\n",
    "out_soil = 'C:/Users/rmbp/GIS-project/HaugSeut.gdb/soil_haugseut'\n",
    "arcpy.Clip_analysis(in_soil,inMask,out_soil,xy_tolerance)\n",
    "\n",
    "out_pump = 'C:/Users/rmbp/GIS-project/HaugSeut.gdb/pumps_haugseut'\n",
    "arcpy.Clip_analysis(in_pump,inMask,out_pump,xy_tolerance)"
   ]
  },
  {
   "cell_type": "markdown",
   "metadata": {},
   "source": [
    "#### Union of deep weathering towards the study area and converting files to raster"
   ]
  },
  {
   "cell_type": "code",
   "execution_count": 5,
   "metadata": {},
   "outputs": [
    {
     "data": {
      "text/plain": [
       "<Result 'C:\\\\Users\\\\rmbp\\\\GIS-project\\\\raster-files\\\\soil-Raster'>"
      ]
     },
     "execution_count": 5,
     "metadata": {},
     "output_type": "execute_result"
    }
   ],
   "source": [
    "# Union of mask and deep weathering\n",
    "\n",
    "DW = 'deepweathering'\n",
    "arcpy.Union_analysis([inMask,DW],'C:/Users/rmbp/GIS-project/HaugSeut.gdb/DW_unified')\n",
    "\n",
    "# Clip to proper area\n",
    "out_DW = 'C:/Users/rmbp/GIS-project/HaugSeut.gdb/DeepWeather'\n",
    "arcpy.Clip_analysis('C:/Users/rmbp/GIS-project/HaugSeut.gdb/DW_unified',inMask,out_DW,xy_tolerance)\n",
    "\n",
    "# Converting the polygon into raster\n",
    "outRaster = 'C:/Users/rmbp/GIS-project/raster-files/DW-Raster'\n",
    "valField = 'Dypforvitr'\n",
    "\n",
    "insoil = 'C:/Users/rmbp/GIS-project/HaugSeut.gdb/soil_haugseut'\n",
    "outsoil = 'C:/Users/rmbp/GIS-project/raster-files/soil-Raster'\n",
    "valfieldsoil = 'jorda_navn'\n",
    "\n",
    "arcpy.PolygonToRaster_conversion(out_DW,valField,outRaster,cell_assignment='MAXIMUM_AREA',cellsize=50)\n",
    "arcpy.PolygonToRaster_conversion(insoil,valfieldsoil,outsoil,cell_assignment='MAXIMUM_AREA',cellsize=50)"
   ]
  },
  {
   "cell_type": "markdown",
   "metadata": {},
   "source": [
    "### Combining Multiconsult's piezometric wells and public well data together in a single shape-file"
   ]
  },
  {
   "cell_type": "code",
   "execution_count": 6,
   "metadata": {},
   "outputs": [
    {
     "data": {
      "text/plain": [
       "<Result 'C:\\\\Users\\\\rmbp\\\\GIS-project\\\\HaugSeut.gdb\\\\new_wells_test'>"
      ]
     },
     "execution_count": 6,
     "metadata": {},
     "output_type": "execute_result"
    }
   ],
   "source": [
    "# Calling in values to merge, pumps_haigseut is the edited version\n",
    "point_data = 'C:/Users/rmbp/GIS-project/HaugSeut.gdb/points'\n",
    "GW_data = 'C:/Users/rmbp/GIS-project/HaugSeut.gdb/pumps_haugseut'\n",
    "\n",
    "# Adding source data\n",
    "addSourceInfo = 'ADD_SOURCE_INFO'\n",
    "\n",
    "# Create FieldMappings object to manage merge output fields\n",
    "fieldMappings = arcpy.FieldMappings()\n",
    "\n",
    "# Adding fields to both GRANADA-pumping wells and pore pressure measurements from Haug-Seut\n",
    "fieldMappings.addTable(point_data)\n",
    "fieldMappings.addTable(GW_data)\n",
    "\n",
    "# Add input fields \"water table\" and \"vannstandb\" into new output fields\n",
    "fldMap_water = arcpy.FieldMap()\n",
    "fldMap_water.addInputField(GW_data,'vannstandb')\n",
    "fldMap_water.addInputField(point_data,'water_table')\n",
    "\n",
    "# Set name of new output field as \"stable water\"\n",
    "stable_water = fldMap_water.outputField\n",
    "stable_water.name = 'Stable_Water'\n",
    "fldMap_water.outputField = stable_water\n",
    "\n",
    "# Add output field to fieldmappings object\n",
    "fieldMappings.addFieldMap(fldMap_water)\n",
    "\n",
    "# Finally merging data together\n",
    "new_wells = 'C:/Users/rmbp/GIS-project/HaugSeut.gdb/new_wells_test'\n",
    "\n",
    "# Removing unnecessary field attributes\n",
    "for field in fieldMappings.fields:\n",
    "    if field.name not in ['Stable_Water','OBJECTID','bronnnummer']:\n",
    "        fieldMappings.removeFieldMap(fieldMappings.findFieldMapIndex(field.name))\n",
    "\n",
    "# Start merging point data together\n",
    "arcpy.Merge_management([point_data,GW_data],new_wells,fieldMappings,addSourceInfo)"
   ]
  },
  {
   "cell_type": "markdown",
   "metadata": {},
   "source": [
    "### Extracting altitude data to the piezometric well points and creating a field for altitude of water level"
   ]
  },
  {
   "cell_type": "code",
   "execution_count": 7,
   "metadata": {},
   "outputs": [
    {
     "data": {
      "text/plain": [
       "<Result 'C:/Users/rmbp/GIS-project/HaugSeut.gdb\\\\wells_with_alt'>"
      ]
     },
     "execution_count": 7,
     "metadata": {},
     "output_type": "execute_result"
    }
   ],
   "source": [
    "dtm = 'C:/Users/rmbp/GIS-project/Intercity_data.gdb/DEM_1m'\n",
    "arcpy.env.workspace = 'C:/Users/rmbp/GIS-project/HaugSeut.gdb/'\n",
    "\n",
    "# Saving an altitude map into the database\n",
    "outDEM = ExtractByMask(dtm,'C:/Users/rmbp/GIS-project/Intercity_data.gdb/HaugSeut')\n",
    "inDEM = 'Altitude'\n",
    "outDEM.save(inDEM)\n",
    "\n",
    "# Extract altitude values to points \n",
    "ExtractValuesToPoints('new_wells_test', 'Altitude',\n",
    "                      'wells_with_alt')\n",
    "\n",
    "# Creating new field for altitude of water table\n",
    "in_features = 'wells_with_alt'\n",
    "field_name = 'water_altitude'\n",
    "expression = '!RASTERVALU! - !Stable_Water!'\n",
    "\n",
    "\n",
    "arcpy.AddField_management(in_features, field_name, \n",
    "                          field_type = 'DOUBLE')\n",
    "\n",
    "arcpy.CalculateField_management(in_features, field_name, \n",
    "                                expression)\n"
   ]
  },
  {
   "cell_type": "markdown",
   "metadata": {},
   "source": [
    "#### Interpolation of piezometric well data (Need to be redone, make new table with respect to altitude, and then interpolate thedata)"
   ]
  },
  {
   "cell_type": "code",
   "execution_count": 8,
   "metadata": {},
   "outputs": [
    {
     "data": {
      "text/plain": [
       "<Result 'IDW_wells'>"
      ]
     },
     "execution_count": 8,
     "metadata": {},
     "output_type": "execute_result"
    }
   ],
   "source": [
    "# Use of Inverse Distance Weighting\n",
    "\n",
    "# Assigning local variables\n",
    "input_points = 'wells_with_alt'\n",
    "zField = 'water_altitude'\n",
    "outlay = 'IDW_wells'\n",
    "outRast = 'IDW_RastWells'\n",
    "cellSize = 50\n",
    "power = 2\n",
    "\n",
    "\n",
    "# Set up variables for search neighborhood\n",
    "majSemiaxis = 300000\n",
    "minSemiaxis = 300000\n",
    "angle = 0\n",
    "maxNeighbors = 15\n",
    "minNeighbors = 10\n",
    "sectorType = 'ONE_SECTOR'\n",
    "\n",
    "searchNeigborhood = arcpy.SearchNeighborhoodStandard(majSemiaxis,minSemiaxis,angle,\n",
    "                                                    maxNeighbors,minNeighbors,sectorType)\n",
    "# Execute IDW \n",
    "arcpy.IDW_ga(input_points,zField,outlay,outRast)"
   ]
  },
  {
   "cell_type": "markdown",
   "metadata": {},
   "source": [
    "#### Reclassify\n",
    "\n",
    "Now that we have all data prepared. The values need to be reclassified for proper weighting process. We reclassify the classes in a scale from 1 to 10, where 10 stands for the highest rating for land subsidence susceptibility. We do this by changing from nominal values that represents a class to interval or ratio values so that values can be used in relation to one another. "
   ]
  },
  {
   "cell_type": "code",
   "execution_count": 9,
   "metadata": {},
   "outputs": [],
   "source": [
    "# Reclassifying parameters\n",
    "inRiver = 'final_river'\n",
    "inDeep = 'C:/Users/rmbp/GIS-project/raster-files/dw-raster'\n",
    "inSlope = 'Slope'\n",
    "inLULC = 'landcovers'\n",
    "inTWI = 'TWI'\n",
    "inSoil = 'C:/Users/rmbp/GIS-project/raster-files/soil-raster'\n",
    "inGW = 'Wells'\n",
    "\n",
    "# Remapping values\n",
    "myRemapRiver = RemapRange([[0,100,8],[100,200,6],\n",
    "                           [200,300,3],[300,6000,1]])\n",
    "\n",
    "myRemapDW = RemapValue([[1,1],[2,9],[3,5],[4,4],[5,8],[6,4]])\n",
    "\n",
    "myRemapSlope = RemapRange([[0,5,7],[5,15,6],[15,20,5],[20,40,2]])\n",
    "\n",
    "myRemapLand = RemapValue([[\"Water\",\"NODATA\"],[\"Barren\",2],[\"Planted/Cultivated\",7],[\"Urban\",8],\n",
    "                          [\"Forest\",6],[\"Coastline\",\"NODATA\"]])\n",
    "\n",
    "myRemapTWI = RemapRange([[0,6,2],[6,9,5],[9,12,6],[12,14,7],[14,30,9]])\n",
    "\n",
    "myRemapSoil = RemapValue([[3,1],[1,10],[2,10],[6,10],[7,4],[9,4],[4,7],[5,7],[10,8],[11,6],[8,9]])\n",
    "\n",
    "myRemapGW = RemapRange([[-67,-15,10],[-15,-5,8],[-5,15,6],[15,30,4],\n",
    "                       [30,45,2],[45,70,1]])\n",
    "\n",
    "\n",
    "# Execute river reclassify, you should note that it's possible to use a nested loop to run the anaysis\n",
    "outReclassRiver = Reclassify(inRiver,\"VALUE\",myRemapRiver)\n",
    "outReclassDW = Reclassify(inDeep,\"VALUE\",myRemapDW)\n",
    "outReclassSlope = Reclassify(inSlope,\"VALUE\",myRemapSlope)\n",
    "outReclassLand = Reclassify(inLULC,\"Class_name\",myRemapLand)\n",
    "outReclassTWI = Reclassify(inTWI,\"VALUE\",myRemapTWI)\n",
    "outReclassSoil = Reclassify(inSoil,\"VALUE\",myRemapSoil)\n",
    "outReclassGW = Reclassify(inGW,\"VALUE\",myRemapGW)\n",
    "\n",
    "# Save reclass-files to geodatabase containing \n",
    "outReclassRiver.save('C:/Users/rmbp/GIS-project/test_reclassify.gdb/reclass_riv')\n",
    "outReclassDW.save('C:/Users/rmbp/GIS-project/test_reclassify.gdb/reclass_DW')\n",
    "outReclassSlope.save('C:/Users/rmbp/GIS-project/test_reclassify.gdb/reclass_Slope')\n",
    "outReclassLand.save('C:/Users/rmbp/GIS-project/test_reclassify.gdb/reclass_Land')\n",
    "outReclassTWI.save('C:/Users/rmbp/GIS-project/test_reclassify.gdb/reclass_TWI')\n",
    "outReclassSoil.save('C:/Users/rmbp/GIS-project/test_reclassify.gdb/reclass_Soil')\n",
    "outReclassGW.save('C:/Users/rmbp/GIS-project/test_reclassify.gdb/reclass_GW')"
   ]
  },
  {
   "cell_type": "markdown",
   "metadata": {},
   "source": [
    "N.B some of the classes are registered to NODATA. This accounts for \"Coastline\" in the landcover layer and \"Unsure data\" for the deep weathering layer. "
   ]
  },
  {
   "cell_type": "markdown",
   "metadata": {},
   "source": [
    "#### Analytical hierarchy process"
   ]
  },
  {
   "cell_type": "markdown",
   "metadata": {},
   "source": [
    "For the next step, we need to apply Analytical Hierarchy process. Now, we have to measure the relative importance of the criteria to each other. Use the Python-module Pandas to read the Excel-file containing the pairwise comparison matrix to calculate the results. "
   ]
  },
  {
   "cell_type": "code",
   "execution_count": 16,
   "metadata": {
    "scrolled": true
   },
   "outputs": [
    {
     "name": "stdout",
     "output_type": "stream",
     "text": [
      "0    0.165127\n",
      "1    0.068511\n",
      "2    0.335858\n",
      "3    0.032950\n",
      "4    0.243126\n",
      "5    0.104140\n",
      "6    0.050288\n",
      "dtype: float64\n",
      "0.06648233753402097 0.0851412662482208 0.04933523690973838 0.08964418876663842\n"
     ]
    }
   ],
   "source": [
    "def AHP(n, sheet_no):\n",
    "    \n",
    "    # n: No of criteria\n",
    "    # sheet_no: Sheet name in Excel\n",
    "    # RI: Random Index\n",
    "    \n",
    "    # Reading file location of the 7x7 pairwise comparison matrix\n",
    "    file_loc = \"C:/Users/rmbp/GIS-project/Excel-files/AHP.xlsx\"\n",
    "    df = pd.read_excel(file_loc,sheet_name=sheet_no)\n",
    "    df1 = df.drop([\"Letter\"],axis=1)\n",
    "    \n",
    "    # Normalizing the nth root of products to get appropriate weights\n",
    "    root = df1.product(axis = 1)**(1/n)\n",
    "    sum_val = sum(root)\n",
    "    \n",
    "    # The final priority vectors\n",
    "    weights = root/sum_val\n",
    "    \n",
    "    # Calculating the consistency ratio\n",
    "    if n == 7:\n",
    "        col_list = [\"A\",\"B\",\"C\",\"D\",\"E\",\"F\",\"G\"]\n",
    "        RI = 1.32\n",
    "    elif n == 6:\n",
    "        col_list = [\"A\",\"B\",\"C\",\"D\",\"E\",\"F\"]\n",
    "        RI = 1.24\n",
    "    \n",
    "    col_sum = []\n",
    "    for i in col_list:\n",
    "        col_sum.append(df[i].sum())\n",
    "        \n",
    "    lam_max = np.sum(col_sum*weights)\n",
    "    CI = (lam_max - n)/(n - 1)\n",
    "    CR = CI/RI\n",
    "    \n",
    "    return weights, CR\n",
    "\n",
    "# Original weights\n",
    "W1, C1 = AHP(7,\"Sheet2\")\n",
    "\n",
    "# Removal of DW\n",
    "W2, C2 = AHP(6,\"Sheet3\")\n",
    "\n",
    "# Removal of Lithology\n",
    "W3, C3 = AHP(6,\"Sheet4\")\n",
    "\n",
    "# Removal of land cover\n",
    "W4, C4 = AHP(6,\"Sheet5\")\n",
    "\n",
    "print(W1)\n",
    "print(C1,C2,C3,C4)\n",
    "\n",
    "# Removal of remaining water in the map through raster calculator\n",
    "# SetNull( ~ (IsNull( [EraseRaster] )), [OriginalRaster] )\n",
    "# The weights will be applied in the overlay analysis\n",
    "# Roads are counted as urban areas"
   ]
  },
  {
   "cell_type": "markdown",
   "metadata": {},
   "source": [
    "### Extraction of most susceptible areas by InSAR"
   ]
  },
  {
   "cell_type": "markdown",
   "metadata": {},
   "source": [
    "The overlay analysis is performed by using the raster calculator."
   ]
  },
  {
   "cell_type": "code",
   "execution_count": 15,
   "metadata": {},
   "outputs": [],
   "source": [
    "inSAR = \"C:/Users/rmbp/GIS-project/main_env/MyProject1/MyProject1.gdb/Extract_sent1\"\n",
    "SQLClause = \"VALUE >= 0.45\"\n",
    "\n",
    "attExtract = ExtractByAttributes(inSAR, SQLClause) \n",
    "attExtract.save('C:/Users/rmbp/GIS-project/Stage2.gdb/observed_subsidence')\n"
   ]
  }
 ],
 "metadata": {
  "kernelspec": {
   "display_name": "Python 3",
   "language": "python",
   "name": "python3"
  },
  "language_info": {
   "codemirror_mode": {
    "name": "ipython",
    "version": 3
   },
   "file_extension": ".py",
   "mimetype": "text/x-python",
   "name": "python",
   "nbconvert_exporter": "python",
   "pygments_lexer": "ipython3",
   "version": "3.6.8"
  }
 },
 "nbformat": 4,
 "nbformat_minor": 2
}
